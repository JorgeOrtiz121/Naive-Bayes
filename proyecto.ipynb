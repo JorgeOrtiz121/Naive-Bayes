{
 "cells": [
  {
   "cell_type": "code",
   "execution_count": 1,
   "metadata": {},
   "outputs": [],
   "source": [
    "import matplotlib.pyplot as plt\n",
    "import pandas as pd\n",
    "import numpy as np\n",
    "import sklearn.datasets\n",
    "from sklearn.naive_bayes import GaussianNB\n",
    "model = GaussianNB()\n",
    "from sklearn.feature_extraction.text import TfidfVectorizer\n",
    "from sklearn.naive_bayes import MultinomialNB\n",
    "from sklearn.pipeline import make_pipeline"
   ]
  },
  {
   "cell_type": "code",
   "execution_count": 15,
   "metadata": {},
   "outputs": [
    {
     "name": "stdout",
     "output_type": "stream",
     "text": [
      "     manufacturer       productName  releaseYear  memSize  memBusWidth  \\\n",
      "0          NVIDIA  GeForce RTX 4050       2023.0    8.000        128.0   \n",
      "1           Intel         Arc A350M       2022.0    4.000         64.0   \n",
      "2           Intel         Arc A370M       2022.0    4.000         64.0   \n",
      "3           Intel          Arc A380       2022.0    4.000         64.0   \n",
      "4           Intel         Arc A550M       2022.0    8.000        128.0   \n",
      "...           ...               ...          ...      ...          ...   \n",
      "2884         3dfx  Voodoo5 5000 AGP       3000.0    0.016        128.0   \n",
      "2885         3dfx  Voodoo5 5000 PCI       3000.0    0.016        128.0   \n",
      "2886         3dfx      Voodoo5 6000       3000.0    0.032        128.0   \n",
      "2887        Intel            Xe DG1       3000.0    4.000        128.0   \n",
      "2888        Intel        Xe DG1-SDV       3000.0    8.000        128.0   \n",
      "\n",
      "      gpuClock  memClock  unifiedShader  tmu  rop  pixelShader  vertexShader  \\\n",
      "0         1925    2250.0         3840.0  120   48       3000.0        3000.0   \n",
      "1          300    1500.0          768.0   48   24       3000.0        3000.0   \n",
      "2          300    1500.0         1024.0   64   32       3000.0        3000.0   \n",
      "3          300    1500.0         1024.0   64   32       3000.0        3000.0   \n",
      "4          300    1500.0         2048.0  128   64       3000.0        3000.0   \n",
      "...        ...       ...            ...  ...  ...          ...           ...   \n",
      "2884       166     166.0         3000.0    2    2          2.0           0.0   \n",
      "2885       166     166.0         3000.0    2    2          2.0           0.0   \n",
      "2886       166     166.0         3000.0    2    2          2.0           0.0   \n",
      "2887       900    2133.0          640.0   40   20       3000.0        3000.0   \n",
      "2888       900    2133.0          768.0   48   24       3000.0        3000.0   \n",
      "\n",
      "     igp           bus  memType  gpuChip  \n",
      "0     No  PCIe 4.0 x16    GDDR6    AD106  \n",
      "1     No   PCIe 4.0 x8    GDDR6  DG2-128  \n",
      "2     No   PCIe 4.0 x8    GDDR6  DG2-128  \n",
      "3     No   PCIe 4.0 x8    GDDR6  DG2-128  \n",
      "4     No  PCIe 4.0 x16    GDDR6  DG2-512  \n",
      "...   ..           ...      ...      ...  \n",
      "2884  No        AGP 4x      SDR  VSA-100  \n",
      "2885  No           PCI      SDR  VSA-100  \n",
      "2886  No        AGP 4x      SDR  VSA-100  \n",
      "2887  No   PCIe 4.0 x8  LPDDR4X      DG1  \n",
      "2888  No   PCIe 4.0 x8  LPDDR4X      DG1  \n",
      "\n",
      "[2889 rows x 16 columns]\n",
      "0    True\n",
      "1    True\n",
      "2    True\n",
      "3    True\n",
      "4    True\n",
      "dtype: bool\n",
      "[[8.0000e+00 1.2800e+02 1.9250e+03 2.2500e+03 3.8400e+03 1.2000e+02\n",
      "  4.8000e+01 3.0000e+03]\n",
      " [4.0000e+00 6.4000e+01 3.0000e+02 1.5000e+03 7.6800e+02 4.8000e+01\n",
      "  2.4000e+01 3.0000e+03]\n",
      " [4.0000e+00 6.4000e+01 3.0000e+02 1.5000e+03 1.0240e+03 6.4000e+01\n",
      "  3.2000e+01 3.0000e+03]\n",
      " [4.0000e+00 6.4000e+01 3.0000e+02 1.5000e+03 1.0240e+03 6.4000e+01\n",
      "  3.2000e+01 3.0000e+03]\n",
      " [8.0000e+00 1.2800e+02 3.0000e+02 1.5000e+03 2.0480e+03 1.2800e+02\n",
      "  6.4000e+01 3.0000e+03]\n",
      " [1.2000e+01 1.9200e+02 3.0000e+02 1.5000e+03 3.0720e+03 1.9200e+02\n",
      "  9.6000e+01 3.0000e+03]\n",
      " [1.6000e+01 2.5600e+02 3.0000e+02 1.5000e+03 4.0960e+03 2.5600e+02\n",
      "  1.2800e+02 3.0000e+03]\n",
      " [1.6000e+01 2.5600e+02 3.0000e+02 1.5000e+03 4.0960e+03 2.5600e+02\n",
      "  1.2800e+02 3.0000e+03]\n",
      " [1.6000e+01 2.5600e+02 3.0000e+02 1.0930e+03 4.0960e+03 2.5600e+02\n",
      "  1.2800e+02 3.0000e+03]\n",
      " [1.6000e+01 4.0960e+03 9.0000e+02 1.2000e+03 8.1920e+03 2.5600e+02\n",
      "  1.2800e+02 3.0000e+03]\n",
      " [2.0000e+00 6.4000e+01 1.0650e+03 1.5000e+03 1.0240e+03 3.2000e+01\n",
      "  1.6000e+01 3.0000e+03]\n",
      " [4.0000e+00 6.4000e+01 1.0870e+03 1.5000e+03 2.0480e+03 6.4000e+01\n",
      "  4.0000e+01 3.0000e+03]\n",
      " [4.0000e+00 1.2800e+02 1.5450e+03 1.7500e+03 2.3040e+03 7.2000e+01\n",
      "  3.2000e+01 3.0000e+03]\n",
      " [8.0000e+00 1.2800e+02 1.5520e+03 1.7500e+03 2.5600e+03 8.0000e+01\n",
      "  3.2000e+01 3.0000e+03]\n",
      " [8.0000e+00 1.2800e+02 1.5520e+03 1.7500e+03 2.5600e+03 8.0000e+01\n",
      "  3.2000e+01 3.0000e+03]\n",
      " [8.0000e+00 1.2800e+02 1.5150e+03 1.7500e+03 2.5600e+03 8.0000e+01\n",
      "  3.2000e+01 3.0000e+03]\n",
      " [8.0000e+00 2.5600e+02 1.4100e+03 1.7500e+03 4.8640e+03 1.5200e+02\n",
      "  8.0000e+01 3.0000e+03]\n",
      " [8.0000e+00 2.5600e+02 9.1500e+02 1.7500e+03 5.6320e+03 1.7600e+02\n",
      "  8.0000e+01 3.0000e+03]\n",
      " [1.2000e+01 3.8400e+02 1.2600e+03 1.1880e+03 8.9600e+03 2.8000e+02\n",
      "  9.6000e+01 3.0000e+03]\n",
      " [2.0000e+01 3.2000e+02 1.3350e+03 1.1880e+03 1.0240e+04 3.2000e+02\n",
      "  1.1200e+02 3.0000e+03]\n",
      " [1.6000e+01 2.5600e+02 5.8500e+02 1.5000e+03 7.4240e+03 2.3200e+02\n",
      "  9.6000e+01 3.0000e+03]\n",
      " [1.6000e+01 2.5600e+02 8.1000e+02 2.0000e+03 7.4240e+03 2.3200e+02\n",
      "  9.6000e+01 3.0000e+03]\n",
      " [2.4000e+01 3.8400e+02 1.5600e+03 1.3130e+03 1.0752e+04 3.3600e+02\n",
      "  1.1200e+02 3.0000e+03]\n",
      " [1.2000e+01 1.9200e+02 1.9250e+03 2.2500e+03 5.8880e+03 1.8400e+02\n",
      "  6.4000e+01 3.0000e+03]\n",
      " [1.2000e+01 1.9200e+02 1.9250e+03 2.2500e+03 7.6800e+03 2.4000e+02\n",
      "  8.0000e+01 3.0000e+03]\n",
      " [1.6000e+01 2.5600e+02 1.9250e+03 2.2500e+03 9.7280e+03 3.0400e+02\n",
      "  9.6000e+01 3.0000e+03]\n",
      " [2.0000e+01 3.2000e+02 1.8950e+03 1.3250e+03 1.4080e+04 4.4000e+02\n",
      "  1.4400e+02 3.0000e+03]\n",
      " [2.4000e+01 3.8400e+02 1.8150e+03 1.3250e+03 1.7408e+04 5.4400e+02\n",
      "  1.9200e+02 3.0000e+03]\n",
      " [8.0000e+01 5.1200e+03 1.0650e+03 1.0000e+03 1.4592e+04 4.5600e+02\n",
      "  2.4000e+01 3.0000e+03]\n",
      " [8.0000e+01 5.1200e+03 1.0650e+03 1.5000e+03 1.6896e+04 5.2800e+02\n",
      "  2.4000e+01 3.0000e+03]\n",
      " [3.0000e+03 3.0000e+03 3.0000e+02 3.0000e+03 6.4000e+02 4.0000e+01\n",
      "  2.0000e+01 3.0000e+03]\n",
      " [3.0000e+03 3.0000e+03 3.0000e+02 3.0000e+03 7.6800e+02 4.8000e+01\n",
      "  2.4000e+01 3.0000e+03]\n",
      " [3.0000e+03 3.0000e+03 1.5000e+03 3.0000e+03 3.8400e+02 2.4000e+01\n",
      "  1.6000e+01 3.0000e+03]\n",
      " [3.0000e+03 3.0000e+03 2.0000e+03 3.0000e+03 7.6800e+02 4.8000e+01\n",
      "  3.2000e+01 3.0000e+03]\n",
      " [4.0000e+00 6.4000e+01 2.3310e+03 1.7500e+03 7.6800e+02 4.8000e+01\n",
      "  3.2000e+01 3.0000e+03]]\n",
      "0     NVIDIA\n",
      "1      Intel\n",
      "2      Intel\n",
      "3      Intel\n",
      "4      Intel\n",
      "5      Intel\n",
      "6      Intel\n",
      "7      Intel\n",
      "8      Intel\n",
      "9      Intel\n",
      "10    NVIDIA\n",
      "11    NVIDIA\n",
      "12    NVIDIA\n",
      "13    NVIDIA\n",
      "14    NVIDIA\n",
      "15    NVIDIA\n",
      "16    NVIDIA\n",
      "17    NVIDIA\n",
      "18    NVIDIA\n",
      "19    NVIDIA\n",
      "20    NVIDIA\n",
      "21    NVIDIA\n",
      "22    NVIDIA\n",
      "23    NVIDIA\n",
      "24    NVIDIA\n",
      "25    NVIDIA\n",
      "26    NVIDIA\n",
      "27    NVIDIA\n",
      "28    NVIDIA\n",
      "29    NVIDIA\n",
      "30     Intel\n",
      "31     Intel\n",
      "32       AMD\n",
      "33       AMD\n",
      "34       AMD\n",
      "Name: manufacturer, dtype: object\n"
     ]
    }
   ],
   "source": [
    "df = pd.read_csv(\"gpu_specs_v6.csv\") \n",
    "df.fillna(3000,inplace=True);\n",
    "print(df)\n",
    "valid = df.notna().all(axis=1)\n",
    "print(valid.head())\n",
    "x=df.iloc[:35,3:11].values\n",
    "print(x)\n",
    "y=df.iloc[:35,0]\n",
    "print(y)\n"
   ]
  },
  {
   "cell_type": "code",
   "execution_count": 22,
   "metadata": {},
   "outputs": [],
   "source": [
    "from sklearn.model_selection import train_test_split\n",
    "xtrain,xtest,ytrain,ytest=train_test_split(x,y,test_size=0.50,random_state=240)"
   ]
  },
  {
   "cell_type": "code",
   "execution_count": 23,
   "metadata": {},
   "outputs": [
    {
     "name": "stdout",
     "output_type": "stream",
     "text": [
      "[[-0.54462208 -0.3962525   0.79304538 -1.09242419  2.83618075  2.8526567\n",
      "   2.84900189  0.        ]\n",
      " [ 1.8027557   1.79773919 -1.49494429  1.64512565 -0.7911106  -0.76551437\n",
      "  -0.82945625  0.        ]\n",
      " [ 1.8027557   1.79773919  1.07243686  1.64512565 -0.7911106  -0.76551437\n",
      "  -0.65429157  0.        ]\n",
      " [-0.55724239 -0.61095505 -1.49494429 -0.80641152 -0.51208819 -0.18193839\n",
      "   0.04636712  0.        ]\n",
      " [-0.56039747 -0.66463069  1.57232107 -0.39782199 -0.7911106  -0.76551437\n",
      "  -0.65429157  0.        ]\n",
      " [-0.56197501 -0.66463069 -0.33962277 -0.80641152 -0.73530612 -0.88222957\n",
      "  -1.00462092  0.        ]\n",
      " [-0.55724239 -0.50360378  0.18140458 -0.39782199  0.10176111 -0.0068656\n",
      "   0.39669647  0.        ]\n",
      " [ 1.8027557   1.79773919  0.31732476  1.64512565 -0.87481733 -0.94058717\n",
      "  -1.00462092  0.        ]\n",
      " [-0.55408732 -0.55727941  0.95917004  0.41935707  0.71561042  0.63506798\n",
      "   0.39669647  0.        ]\n",
      " [-0.56039747 -0.61095505  0.38528485 -0.39782199 -0.45628371 -0.59044158\n",
      "  -0.65429157  0.        ]\n",
      " [-0.55408732 -0.55727941 -1.49494429 -0.80641152 -0.28887026  0.28492239\n",
      "   0.74702581  0.        ]\n",
      " [ 1.8027557   1.79773919 -1.49494429  1.64512565 -0.81901284 -0.82387197\n",
      "  -0.91703858  0.        ]\n",
      " [-0.55093224 -0.50360378  0.95917004  0.41935707  1.16204628  1.10192876\n",
      "   0.74702581  0.        ]\n",
      " [-0.55724239 -0.61095505  0.39585641 -0.39782199 -0.40047923 -0.53208398\n",
      "  -0.65429157  0.        ]\n",
      " [-0.54462208 -0.3962525   0.40793821 -1.11203649  1.38526421  1.33535915\n",
      "   1.09735516  0.        ]\n",
      " [-0.55093224 -0.50360378 -1.06453039 -0.80641152  0.65980594  0.57671038\n",
      "   0.74702581  0.        ]\n",
      " [-0.55724239 -0.61095505  0.33997812 -0.39782199 -0.40047923 -0.53208398\n",
      "  -0.65429157  0.        ]]\n"
     ]
    }
   ],
   "source": [
    "from sklearn.preprocessing import StandardScaler\n",
    "sc=StandardScaler()\n",
    "X_train=sc.fit_transform(xtrain)\n",
    "X_test=sc.transform(xtest)\n",
    "print(X_train)"
   ]
  },
  {
   "cell_type": "code",
   "execution_count": 24,
   "metadata": {},
   "outputs": [
    {
     "name": "stdout",
     "output_type": "stream",
     "text": [
      "['NVIDIA' 'NVIDIA' 'NVIDIA' 'Intel' 'NVIDIA' 'NVIDIA' 'NVIDIA' 'NVIDIA'\n",
      " 'NVIDIA' 'NVIDIA' 'Intel' 'NVIDIA' 'NVIDIA' 'NVIDIA' 'NVIDIA' 'NVIDIA'\n",
      " 'Intel' 'NVIDIA']\n"
     ]
    }
   ],
   "source": [
    "model.fit(X_train,ytrain)\n",
    "y_predication=model.predict(X_test)\n",
    "print(y_predication)"
   ]
  },
  {
   "cell_type": "code",
   "execution_count": 25,
   "metadata": {},
   "outputs": [
    {
     "name": "stdout",
     "output_type": "stream",
     "text": [
      "29    NVIDIA\n",
      "6      Intel\n",
      "17    NVIDIA\n",
      "1      Intel\n",
      "23    NVIDIA\n",
      "9      Intel\n",
      "0     NVIDIA\n",
      "21    NVIDIA\n",
      "18    NVIDIA\n",
      "19    NVIDIA\n",
      "3      Intel\n",
      "28    NVIDIA\n",
      "11    NVIDIA\n",
      "14    NVIDIA\n",
      "7      Intel\n",
      "26    NVIDIA\n",
      "2      Intel\n",
      "8      Intel\n",
      "Name: manufacturer, dtype: object\n",
      "['NVIDIA' 'NVIDIA' 'NVIDIA' 'Intel' 'NVIDIA' 'NVIDIA' 'NVIDIA' 'NVIDIA'\n",
      " 'NVIDIA' 'NVIDIA' 'Intel' 'NVIDIA' 'NVIDIA' 'NVIDIA' 'NVIDIA' 'NVIDIA'\n",
      " 'Intel' 'NVIDIA']\n",
      "[[ 3  4]\n",
      " [ 0 11]]\n"
     ]
    }
   ],
   "source": [
    "from sklearn.metrics import confusion_matrix\n",
    "cm=confusion_matrix(ytest,y_predication)\n",
    "print(ytest)\n",
    "print(y_predication)\n",
    "print(cm)"
   ]
  },
  {
   "cell_type": "code",
   "execution_count": 26,
   "metadata": {},
   "outputs": [
    {
     "name": "stdout",
     "output_type": "stream",
     "text": [
      "Predicciones correctas 14\n",
      "Predicciones Incorrectas 4\n",
      "Exito de Naive Bayes 0.7777777777777778\n"
     ]
    }
   ],
   "source": [
    "v1=cm.shape\n",
    "corrPred=0\n",
    "falsePred=0\n",
    "for row in range(v1[0]):\n",
    "    for c in range(v1[1]):\n",
    "        if row==c:\n",
    "            corrPred+=cm[row,c]\n",
    "        else:\n",
    "            falsePred+=cm[row,c]\n",
    "print('Predicciones correctas', corrPred)\n",
    "print('Predicciones Incorrectas',falsePred)\n",
    "print('Exito de Naive Bayes',corrPred/(cm.sum()))"
   ]
  },
  {
   "cell_type": "code",
   "execution_count": 27,
   "metadata": {},
   "outputs": [
    {
     "data": {
      "image/png": "[encoded data removed]",
      "text/plain": [
       "<Figure size 432x288 with 1 Axes>"
      ]
     },
     "metadata": {},
     "output_type": "display_data"
    }
   ],
   "source": [
    "import seaborn as sns; sns.set()\n",
    "sns.heatmap(cm.T, square=True, annot=True, fmt='d',\n",
    "            cbar=False)\n",
    "plt.xlabel('valores ya aseguradas')\n",
    "plt.ylabel('valores de prediccion');"
   ]
  }
 ],
 "metadata": {
  "kernelspec": {
   "display_name": "Python 3.10.5 64-bit",
   "language": "python",
   "name": "python3"
  },
  "language_info": {
   "codemirror_mode": {
    "name": "ipython",
    "version": 3
   },
   "file_extension": ".py",
   "mimetype": "text/x-python",
   "name": "python",
   "nbconvert_exporter": "python",
   "pygments_lexer": "ipython3",
   "version": "3.10.5"
  },
  "orig_nbformat": 4,
  "vscode": {
   "interpreter": {
    "hash": "8a4b3015204080cca8dee882a28d83b5b7e7d1534259af870394e47409d72724"
   }
  }
 },
 "nbformat": 4,
 "nbformat_minor": 2
}
